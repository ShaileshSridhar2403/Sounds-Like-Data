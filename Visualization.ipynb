{
 "cells": [
  {
   "cell_type": "code",
   "execution_count": 16,
   "metadata": {
    "collapsed": true
   },
   "outputs": [],
   "source": [
    "import pandas as pd\n",
    "import numpy as np\n",
    "import plotly\n"
   ]
  },
  {
   "cell_type": "code",
   "execution_count": 17,
   "metadata": {
    "collapsed": true
   },
   "outputs": [],
   "source": [
    "df = pd.read_csv('./Million_Song_Subset.csv')"
   ]
  },
  {
   "cell_type": "code",
   "execution_count": 41,
   "metadata": {},
   "outputs": [
    {
     "data": {
      "text/html": [
       "<iframe id=\"igraph\" scrolling=\"no\" style=\"border:none;\" seamless=\"seamless\" src=\"https://plot.ly/~shashankprabhakar/7.embed\" height=\"525px\" width=\"100%\"></iframe>"
      ],
      "text/plain": [
       "<plotly.tools.PlotlyDisplay object>"
      ]
     },
     "execution_count": 41,
     "metadata": {},
     "output_type": "execute_result"
    }
   ],
   "source": [
    "#artist_hotness vs familiarity\n",
    "import plotly.plotly as py\n",
    "import plotly.graph_objs as go\n",
    "import numpy as np\n",
    "\n",
    "plotly.tools.set_credentials_file(username='shashankprabhakar', api_key='wdZOOKmWMCiXQJZYo5Wm')\n",
    "\n",
    "\n",
    "# Create a trace\n",
    "trace = go.Scatter(\n",
    "    x = df['artist.hotttnesss'],\n",
    "    y = df['familiarity'],\n",
    "    mode = 'markers',\n",
    ")\n",
    "layout = go.Layout(\n",
    "    xaxis = dict(title = 'Artist Hotttnesss'),\n",
    "    yaxis = dict(title = 'Artist Familiarity')\n",
    ")\n",
    "\n",
    "data = [trace]\n",
    "\n",
    "# Plot and embed in ipython notebook!\n",
    "fig = go.Figure(data=data, layout=layout)\n",
    "py.iplot(fig, filename='Artist_hotttnesss vs familiarity')\n"
   ]
  },
  {
   "cell_type": "code",
   "execution_count": 21,
   "metadata": {},
   "outputs": [
    {
     "name": "stdout",
     "output_type": "stream",
     "text": [
      "The Pearson's Coefficient \n",
      "0.8111015325321547\n"
     ]
    }
   ],
   "source": [
    "print(\"The Pearson's Coefficient \")\n",
    "print(df['artist.hotttnesss'].corr(df['familiarity']))"
   ]
  },
  {
   "cell_type": "code",
   "execution_count": 33,
   "metadata": {},
   "outputs": [
    {
     "data": {
      "text/html": [
       "<iframe width=\"1050\" height=\"600\" scrolling=\"no\" frameborder=\"no\" src=\"https://fusiontables.google.com/embedviz?q=select+col14+from+1u481cSQDjs7WzcEDkqSEDTqw4hmgWRNgwFMWRDVb&amp;viz=MAP&amp;h=false&amp;lat=14.648669236670923&amp;lng=14.315151566960822&amp;t=3&amp;z=2&amp;l=col14&amp;y=4&amp;tmplt=6&amp;hml=TWO_COL_LAT_LNG\"></iframe>"
      ],
      "text/plain": [
       "<IPython.core.display.HTML object>"
      ]
     },
     "metadata": {},
     "output_type": "display_data"
    }
   ],
   "source": [
    "#Song Locations across the globe\n",
    "from IPython.core.display import display, HTML\n",
    "display(HTML('<iframe width=\"1050\" height=\"600\" scrolling=\"no\" frameborder=\"no\" src=\"https://fusiontables.google.com/embedviz?q=select+col14+from+1u481cSQDjs7WzcEDkqSEDTqw4hmgWRNgwFMWRDVb&amp;viz=MAP&amp;h=false&amp;lat=14.648669236670923&amp;lng=14.315151566960822&amp;t=3&amp;z=2&amp;l=col14&amp;y=4&amp;tmplt=6&amp;hml=TWO_COL_LAT_LNG\"></iframe>'))"
   ]
  },
  {
   "cell_type": "code",
   "execution_count": 40,
   "metadata": {},
   "outputs": [
    {
     "data": {
      "text/html": [
       "<iframe id=\"igraph\" scrolling=\"no\" style=\"border:none;\" seamless=\"seamless\" src=\"https://plot.ly/~shashankprabhakar/9.embed\" height=\"525px\" width=\"100%\"></iframe>"
      ],
      "text/plain": [
       "<plotly.tools.PlotlyDisplay object>"
      ]
     },
     "execution_count": 40,
     "metadata": {},
     "output_type": "execute_result"
    }
   ],
   "source": [
    "#Plot of Number of songs vs years\n",
    "import plotly.plotly as py\n",
    "import plotly.graph_objs as go\n",
    "\n",
    "import numpy as np\n",
    "\n",
    "x = df['year']\n",
    "yrs = []\n",
    "for i in x:\n",
    "    if i!=0:\n",
    "        yrs.append(i)\n",
    "\n",
    "data2 = [go.Histogram(x=yrs)]\n",
    "\n",
    "layout2 = go.Layout(\n",
    "    xaxis = dict(title = 'Year'),\n",
    "    yaxis = dict(title = 'Number of Songs')\n",
    ")\n",
    "fig2 = go.Figure(data=data2, layout=layout2)\n",
    "py.iplot(fig2, filename='Number of songs vs years')\n"
   ]
  },
  {
   "cell_type": "raw",
   "metadata": {},
   "source": []
  }
 ],
 "metadata": {
  "kernelspec": {
   "display_name": "Python 3",
   "language": "python",
   "name": "python3"
  },
  "language_info": {
   "codemirror_mode": {
    "name": "ipython",
    "version": 3
   },
   "file_extension": ".py",
   "mimetype": "text/x-python",
   "name": "python",
   "nbconvert_exporter": "python",
   "pygments_lexer": "ipython3",
   "version": "3.7.0"
  }
 },
 "nbformat": 4,
 "nbformat_minor": 2
}
