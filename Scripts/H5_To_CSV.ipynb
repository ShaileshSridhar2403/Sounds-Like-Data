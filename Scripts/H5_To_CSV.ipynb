{
 "cells": [
  {
   "cell_type": "code",
   "execution_count": 1,
   "metadata": {
    "ExecuteTime": {
     "end_time": "2018-04-28T21:43:01.419414Z",
     "start_time": "2018-04-28T21:43:00.206715Z"
    }
   },
   "outputs": [],
   "source": [
    "#Importing required headers.\n",
    "import os\n",
    "import sys\n",
    "import time\n",
    "import glob\n",
    "import tables\n",
    "import scipy.io as sio\n",
    "import pandas as pd\n",
    "from pandas import read_hdf\n",
    "\n",
    "#Header to handle H5 files.\n",
    "import hdf5_getters"
   ]
  },
  {
   "cell_type": "code",
   "execution_count": 2,
   "metadata": {
    "ExecuteTime": {
     "end_time": "2018-04-28T21:43:02.097290Z",
     "start_time": "2018-04-28T21:43:02.087918Z"
    }
   },
   "outputs": [],
   "source": [
    "#Functions.\n",
    "\n",
    "#Aggregate all .h5 files.\n",
    "def get_all_files(basedir, ext='.h5'):\n",
    "    \"\"\"\n",
    "    From a root directory, go through all subdirectories\n",
    "    and find all files with the given extension.\n",
    "    Return all absolute paths in a list.\n",
    "    \"\"\"\n",
    "    allfiles = []\n",
    "    for root, dirs, files in os.walk(basedir):\n",
    "        files = glob.glob(os.path.join(root, '*'+ext))\n",
    "        for f in files :\n",
    "            allfiles.append( os.path.abspath(f) )\n",
    "    return allfiles\n",
    "\n",
    "#Converter to matfile.\n",
    "def transform(h5path, matpath=None, force=False):\n",
    "    \"\"\"\n",
    "    Transfer an HDF5 song file (.h5) to a matfile (.mat)\n",
    "    If there are more than one song in the HDF5 file, each\n",
    "    field name gets a number happened: 1, 2, 3, ...., numfiles\n",
    "    PARAM\n",
    "        h5path  - path to the HDF5 song file\n",
    "        matpath - path to the new matfile, same as HDF5 path\n",
    "                  with a different extension by default\n",
    "        force   - if True and matfile exists, overwrite\n",
    "    RETURN\n",
    "        True if the file was transfered, False if there was\n",
    "        a problem.\n",
    "        Could also raise an IOException\n",
    "    NOTE\n",
    "        All the data has to be loaded in memory! be careful\n",
    "        if one file contains tons of songs!\n",
    "    \"\"\"\n",
    "    #Sanity checks\n",
    "    if not os.path.isfile(h5path):\n",
    "        print ('Path to .h5 files does not exist:', h5path)\n",
    "        return False\n",
    "    if not os.path.splitext(h5path)[1] == '.h5':\n",
    "        print ('Expecting a .h5 extension for file:', h5path)\n",
    "        return False\n",
    "    \n",
    "    #Check matfile\n",
    "    if matpath is None:\n",
    "        matpath = os.path.splitext(h5path)[0] + '.mat'\n",
    "    if os.path.exists(matpath):\n",
    "        if not force: \n",
    "            print('matfile', matpath, 'already exists (delete or force):')\n",
    "            return False\n",
    "    \n",
    "    \"\"\"\n",
    "    get all getters! we assume that all we need is in hdf5_getters.py\n",
    "    further assume that they have the form get_blablabla and that's the\n",
    "    only thing that has that form\n",
    "    \"\"\"\n",
    "    getters = list(filter(lambda x: x[:4] == 'get_', hdf5_getters.__dict__.keys()))\n",
    "    #Special case\n",
    "    getters.remove(\"get_num_songs\") \n",
    "    #Open h5 file\n",
    "    h5 = hdf5_getters.open_h5_file_read(h5path)\n",
    "    #Transform\n",
    "    nSongs = hdf5_getters.get_num_songs(h5)\n",
    "    matdata = {'transfer_note':'transferred on '+time.ctime()+' from file: '+h5path}\n",
    "    try:\n",
    "        #Iterate over songs\n",
    "        for songidx in range(nSongs):\n",
    "            #Iterate over getter\n",
    "            for getter in getters:\n",
    "                gettername = getter[4:]\n",
    "                if nSongs > 1:\n",
    "                    gettername += str(songidx+1)\n",
    "                data = hdf5_getters.__getattribute__(getter)(h5,songidx)\n",
    "                matdata[gettername] = data\n",
    "    except MemoryError:\n",
    "        print('Insufficient Main Memory.')\n",
    "        raise\n",
    "    finally:\n",
    "        #Close h5\n",
    "        h5.close()\n",
    "    #Create\n",
    "    return matdata"
   ]
  },
  {
   "cell_type": "code",
   "execution_count": 4,
   "metadata": {
    "ExecuteTime": {
     "end_time": "2018-04-28T21:43:27.038941Z",
     "start_time": "2018-04-28T21:43:26.882469Z"
    }
   },
   "outputs": [
    {
     "name": "stdout",
     "output_type": "stream",
     "text": [
      "Wall time: 23min 24s\n"
     ]
    }
   ],
   "source": [
    "%%time\n",
    "#Convert!\n",
    "\n",
    "#Set input path.\n",
    "h5s = get_all_files('../MillionSongSubset/data/')\n",
    "\n",
    "#Creating the dataframe.\n",
    "df = pd.DataFrame()\n",
    "for file in h5s:\n",
    "    xd = transform(file)\n",
    "    df = df.append(pd.Series(xd), ignore_index=True)\n",
    "    \n",
    "#Storing the result.\n",
    "df.to_csv('../MSD10k.csv')"
   ]
  }
 ],
 "metadata": {
  "kernelspec": {
   "display_name": "Python 3",
   "language": "python",
   "name": "python3"
  },
  "language_info": {
   "codemirror_mode": {
    "name": "ipython",
    "version": 3
   },
   "file_extension": ".py",
   "mimetype": "text/x-python",
   "name": "python",
   "nbconvert_exporter": "python",
   "pygments_lexer": "ipython3",
   "version": "3.7.0"
  }
 },
 "nbformat": 4,
 "nbformat_minor": 2
}
