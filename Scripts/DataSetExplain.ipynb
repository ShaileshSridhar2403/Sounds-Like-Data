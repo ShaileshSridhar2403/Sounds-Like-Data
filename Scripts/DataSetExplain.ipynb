{
 "cells": [
  {
   "cell_type": "code",
   "execution_count": 1,
   "metadata": {},
   "outputs": [],
   "source": [
    "#Importing required headers.\n",
    "import h5py\n",
    "import numpy as np\n",
    "import pandas as pd"
   ]
  },
  {
   "cell_type": "markdown",
   "metadata": {},
   "source": [
    "## HDF5 File Format"
   ]
  },
  {
   "cell_type": "code",
   "execution_count": 2,
   "metadata": {},
   "outputs": [
    {
     "name": "stdout",
     "output_type": "stream",
     "text": [
      "Keys: ['analysis', 'metadata', 'musicbrainz']\n"
     ]
    }
   ],
   "source": [
    "#Looking at a sample file\n",
    "filename = '../MillionSongSubset/data/A/A/A/TRAAAAW128F429D538.h5'\n",
    "f = h5py.File(filename, 'r')\n",
    "\n",
    "keys = list(f.keys())\n",
    "print(\"Keys: %s\" % keys)"
   ]
  },
  {
   "cell_type": "markdown",
   "metadata": {},
   "source": [
    "HDF5 is a format developed by NASA to handle<br>1) large<br>2) heterogeneous<br>3) hierarchical datasets.\n",
    "<br>\n",
    "<br>\n",
    "Each file represents one track with all the related information (artist information, release information, audio\n",
    "analysis of the track, etc). Usually one track is one song, although there are multiple versions of the same track \n",
    "for many songs -- extended versions, different releases, etc. -- each in its own file."
   ]
  }
 ],
 "metadata": {
  "kernelspec": {
   "display_name": "Python 3",
   "language": "python",
   "name": "python3"
  },
  "language_info": {
   "codemirror_mode": {
    "name": "ipython",
    "version": 3
   },
   "file_extension": ".py",
   "mimetype": "text/x-python",
   "name": "python",
   "nbconvert_exporter": "python",
   "pygments_lexer": "ipython3",
   "version": "3.7.0"
  }
 },
 "nbformat": 4,
 "nbformat_minor": 2
}
