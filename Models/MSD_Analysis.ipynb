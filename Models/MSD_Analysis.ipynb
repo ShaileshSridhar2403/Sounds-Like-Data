{
 "cells": [
  {
   "cell_type": "markdown",
   "metadata": {},
   "source": [
    "# Predicting Song Popularity"
   ]
  },
  {
   "cell_type": "markdown",
   "metadata": {},
   "source": [
    "Classifying songs as present in BillBoard hot-100 charts or not."
   ]
  },
  {
   "cell_type": "code",
   "execution_count": 33,
   "metadata": {},
   "outputs": [],
   "source": [
    "#Importing required headers.\n",
    "import copy\n",
    "import matplotlib\n",
    "import pandas as pd\n",
    "import numpy as np\n",
    "import seaborn as sns\n",
    "import matplotlib.pyplot as plt\n",
    "\n",
    "from sklearn import metrics\n",
    "from sklearn import preprocessing\n",
    "from sklearn.metrics import roc_auc_score\n",
    "from sklearn.metrics import accuracy_score\n",
    "from sklearn.metrics import classification_report\n",
    "from sklearn.model_selection import train_test_split\n",
    "from sklearn.model_selection import cross_val_score, GridSearchCV\n",
    "\n",
    "import xgboost as xgb\n",
    "from xgboost.sklearn import XGBRegressor\n",
    "from xgboost.sklearn import XGBClassifier\n",
    "\n",
    "from sklearn.model_selection import KFold\n",
    "from sklearn.linear_model import LinearRegression \n",
    "from sklearn.tree import DecisionTreeClassifier\n",
    "from sklearn.ensemble import RandomForestClassifier\n",
    "from sklearn.neighbors import KNeighborsClassifier\n",
    "from sklearn.linear_model import LogisticRegression\n",
    "\n",
    "#Disabling warnings\n",
    "import warnings\n",
    "warnings.filterwarnings('ignore')"
   ]
  },
  {
   "cell_type": "code",
   "execution_count": 34,
   "metadata": {},
   "outputs": [
    {
     "name": "stdout",
     "output_type": "stream",
     "text": [
      "<class 'pandas.core.frame.DataFrame'>\n",
      "RangeIndex: 10001 entries, 0 to 10000\n",
      "Data columns (total 15 columns):\n",
      "artist_familiarity           9997 non-null float64\n",
      "artist_hotttnesss            10001 non-null float64\n",
      "artist_id                    10001 non-null int64\n",
      "duration                     10001 non-null float64\n",
      "end_of_fade_in               10001 non-null float64\n",
      "key                          10001 non-null int64\n",
      "key_confidence               10001 non-null float64\n",
      "loudness                     10001 non-null float64\n",
      "mode                         10001 non-null int64\n",
      "mode_confidence              10001 non-null float64\n",
      "tempo                        10001 non-null float64\n",
      "time_signature               10001 non-null int64\n",
      "time_signature_confidence    10001 non-null float64\n",
      "year                         10001 non-null int64\n",
      "bbhot                        10001 non-null int64\n",
      "dtypes: float64(9), int64(6)\n",
      "memory usage: 1.1 MB\n"
     ]
    }
   ],
   "source": [
    "#Data.\n",
    "data = pd.read_csv(\"../Data/MSD_BB.csv\")\n",
    "data.head()\n",
    "\n",
    "#Encode artist id into quantitative.\n",
    "le = preprocessing.LabelEncoder()\n",
    "data['artist_id'] = le.fit_transform(data['artist_id'].astype('str'))\n",
    "\n",
    "#Keeping required attributes.\n",
    "drop_list = ['artist_location', 'artist_latitude',\\\n",
    "             'artist_longitude','artist_name', 'release',\\\n",
    "             'title' ,'song_hotttnesss', 'start_of_fade_out']\n",
    "train = data.drop(drop_list, axis=1)\n",
    "train.info()"
   ]
  },
  {
   "cell_type": "code",
   "execution_count": 52,
   "metadata": {},
   "outputs": [
    {
     "name": "stdout",
     "output_type": "stream",
     "text": [
      "<class 'pandas.core.frame.DataFrame'>\n",
      "RangeIndex: 10001 entries, 0 to 10000\n",
      "Data columns (total 14 columns):\n",
      "artist_familiarity           10001 non-null float64\n",
      "artist_hotttnesss            10001 non-null float64\n",
      "artist_id                    10001 non-null int64\n",
      "duration                     10001 non-null float64\n",
      "end_of_fade_in               10001 non-null float64\n",
      "key                          10001 non-null int64\n",
      "key_confidence               10001 non-null float64\n",
      "loudness                     10001 non-null float64\n",
      "mode                         10001 non-null int64\n",
      "mode_confidence              10001 non-null float64\n",
      "tempo                        10001 non-null float64\n",
      "time_signature               10001 non-null int64\n",
      "time_signature_confidence    10001 non-null float64\n",
      "year                         10001 non-null int64\n",
      "dtypes: float64(9), int64(5)\n",
      "memory usage: 1.1 MB\n"
     ]
    }
   ],
   "source": [
    "#Actual BillBoard hotness values.\n",
    "Y = copy.deepcopy(train.bbhot)\n",
    "\n",
    "#Imputing values.\n",
    "train[\"artist_familiarity\"] = train[\"artist_familiarity\"].fillna(train[\"artist_familiarity\"].median())\n",
    "\n",
    "#Training set without target.\n",
    "train1 = train.drop(\"bbhot\", axis=1)\n",
    "train1.info()\n",
    "\n",
    "X_train, X_test, y_train, y_test = train_test_split(train1, train['bbhot'], test_size=0.2, random_state=5)"
   ]
  },
  {
   "cell_type": "code",
   "execution_count": 49,
   "metadata": {},
   "outputs": [],
   "source": [
    "#Function to evaluate my model with Cross validation.\n",
    "from sklearn.model_selection import cross_val_score\n",
    "def testingModel(model, X_train, Y_train):\n",
    "    scores = cross_val_score(model, X_train, Y_train, cv=10, scoring = \"roc_auc\")\n",
    "    print(\"Scores:\\n\", scores)\n",
    "    print(\"Mean:\", scores.mean())\n",
    "    print(\"Standard Deviation:\", scores.std())\n",
    "    return scores.mean()"
   ]
  },
  {
   "cell_type": "code",
   "execution_count": 55,
   "metadata": {},
   "outputs": [
    {
     "name": "stdout",
     "output_type": "stream",
     "text": [
      "Scores:\n",
      " [0.59727196 0.60979301 0.65262125 0.61071315 0.57932959 0.61413515\n",
      " 0.6027665  0.63449225 0.66676552 0.65107831]\n",
      "Mean: 0.6218966692623541\n",
      "Standard Deviation: 0.026614917249448207\n",
      "\n",
      "             precision    recall  f1-score   support\n",
      "\n",
      "          0       0.87      1.00      0.93      1740\n",
      "          1       0.62      0.02      0.04       261\n",
      "\n",
      "avg / total       0.84      0.87      0.81      2001\n",
      "\n",
      "Wall time: 24.3 s\n"
     ]
    }
   ],
   "source": [
    "%%time\n",
    "#Random Forest Classification\n",
    "rf = RandomForestClassifier(n_estimators=100, oob_score = True)\n",
    "rf.fit(X_train, y_train)\n",
    "acc_random_forest = testingModel(rf, X_train, y_train)\n",
    "\n",
    "print()\n",
    "print(classification_report(y_test, rf.predict(X_test)))"
   ]
  },
  {
   "cell_type": "code",
   "execution_count": 56,
   "metadata": {},
   "outputs": [
    {
     "name": "stdout",
     "output_type": "stream",
     "text": [
      "Scores:\n",
      " [0.64004334 0.59083512 0.59443963 0.6118386  0.52606044 0.59043969\n",
      " 0.58890359 0.61851531 0.63307022 0.57173536]\n",
      "Mean: 0.5965881290775867\n",
      "Standard Deviation: 0.031079028086737456\n",
      "\n",
      "             precision    recall  f1-score   support\n",
      "\n",
      "          0       0.87      1.00      0.93      1740\n",
      "          1       0.00      0.00      0.00       261\n",
      "\n",
      "avg / total       0.76      0.87      0.81      2001\n",
      "\n",
      "Wall time: 1.22 s\n"
     ]
    }
   ],
   "source": [
    "%%time\n",
    "#Logistic Regression\n",
    "logreg = LogisticRegression()\n",
    "logreg.fit(X_train, y_train)\n",
    "acc_log = testingModel(logreg, X_train, y_train)\n",
    "\n",
    "print()\n",
    "print(classification_report(y_test,logreg.predict(X_test)))"
   ]
  },
  {
   "cell_type": "code",
   "execution_count": 57,
   "metadata": {},
   "outputs": [
    {
     "name": "stdout",
     "output_type": "stream",
     "text": [
      "Scores:\n",
      " [0.51698065 0.58819638 0.49741449 0.56467582 0.52098067 0.61294125\n",
      " 0.59537498 0.54649359 0.55742118 0.56648086]\n",
      "Mean: 0.5566959854609023\n",
      "Standard Deviation: 0.03504724300029208\n",
      "\n",
      "             precision    recall  f1-score   support\n",
      "\n",
      "          0       0.87      1.00      0.93      1740\n",
      "          1       0.50      0.00      0.01       261\n",
      "\n",
      "avg / total       0.82      0.87      0.81      2001\n",
      "\n",
      "Wall time: 556 ms\n"
     ]
    }
   ],
   "source": [
    "%%time\n",
    "#KNN\n",
    "knn = KNeighborsClassifier(n_neighbors = 10)\n",
    "knn.fit(X_train, y_train)\n",
    "acc_knn = testingModel(knn, X_train, y_train)\n",
    "\n",
    "print()\n",
    "print(classification_report(y_test, knn.predict(X_test)))"
   ]
  },
  {
   "cell_type": "code",
   "execution_count": 60,
   "metadata": {},
   "outputs": [
    {
     "name": "stdout",
     "output_type": "stream",
     "text": [
      "Scores:\n",
      " [0.50694424 0.52279813 0.52944442 0.56227282 0.49379477 0.52590835\n",
      " 0.52704141 0.52406808 0.53100333 0.50373907]\n",
      "Mean: 0.5227014618169199\n",
      "Standard Deviation: 0.01776157687304187\n",
      "\n",
      "             precision    recall  f1-score   support\n",
      "\n",
      "          0       0.87      0.88      0.88      1740\n",
      "          1       0.16      0.16      0.16       261\n",
      "\n",
      "avg / total       0.78      0.78      0.78      2001\n",
      "\n",
      "Wall time: 1.6 s\n"
     ]
    }
   ],
   "source": [
    "%%time\n",
    "#Decision trees\n",
    "decision_tree = DecisionTreeClassifier()\n",
    "decision_tree.fit(X_train, y_train)\n",
    "acc_decision_tree = testingModel(decision_tree, X_train, y_train)\n",
    "\n",
    "print()\n",
    "print(classification_report(y_test, decision_tree.predict(X_test)))"
   ]
  },
  {
   "cell_type": "code",
   "execution_count": 59,
   "metadata": {},
   "outputs": [
    {
     "data": {
      "text/html": [
       "<div>\n",
       "<style scoped>\n",
       "    .dataframe tbody tr th:only-of-type {\n",
       "        vertical-align: middle;\n",
       "    }\n",
       "\n",
       "    .dataframe tbody tr th {\n",
       "        vertical-align: top;\n",
       "    }\n",
       "\n",
       "    .dataframe thead th {\n",
       "        text-align: right;\n",
       "    }\n",
       "</style>\n",
       "<table border=\"1\" class=\"dataframe\">\n",
       "  <thead>\n",
       "    <tr style=\"text-align: right;\">\n",
       "      <th></th>\n",
       "      <th>Model</th>\n",
       "    </tr>\n",
       "    <tr>\n",
       "      <th>Score</th>\n",
       "      <th></th>\n",
       "    </tr>\n",
       "  </thead>\n",
       "  <tbody>\n",
       "    <tr>\n",
       "      <th>0.621897</th>\n",
       "      <td>Random Forest</td>\n",
       "    </tr>\n",
       "    <tr>\n",
       "      <th>0.596588</th>\n",
       "      <td>Logistic Regression</td>\n",
       "    </tr>\n",
       "    <tr>\n",
       "      <th>0.556696</th>\n",
       "      <td>KNN</td>\n",
       "    </tr>\n",
       "    <tr>\n",
       "      <th>0.524450</th>\n",
       "      <td>Decision Tree</td>\n",
       "    </tr>\n",
       "  </tbody>\n",
       "</table>\n",
       "</div>"
      ],
      "text/plain": [
       "                        Model\n",
       "Score                        \n",
       "0.621897        Random Forest\n",
       "0.596588  Logistic Regression\n",
       "0.556696                  KNN\n",
       "0.524450        Decision Tree"
      ]
     },
     "execution_count": 59,
     "metadata": {},
     "output_type": "execute_result"
    }
   ],
   "source": [
    "#Consolidating the results.\n",
    "results = pd.DataFrame({\n",
    "    'Model': ['KNN', 'Logistic Regression', 'Random Forest', 'Decision Tree'],\n",
    "    'Score': [acc_knn, acc_log, acc_random_forest, acc_decision_tree]})\n",
    "result_df = results.sort_values(by='Score', ascending=False)\n",
    "result_df = result_df.set_index('Score')\n",
    "result_df"
   ]
  },
  {
   "cell_type": "code",
   "execution_count": 61,
   "metadata": {},
   "outputs": [
    {
     "name": "stdout",
     "output_type": "stream",
     "text": [
      "Accuracy: 87.79%\n",
      "             precision    recall  f1-score   support\n",
      "\n",
      "          0       0.97      0.98      0.97      2900\n",
      "          1       0.82      0.79      0.80       401\n",
      "\n",
      "avg / total       0.95      0.95      0.95      3301\n",
      "\n",
      "Wall time: 1.03 s\n"
     ]
    }
   ],
   "source": [
    "%%time\n",
    "#Gradient boosted decision trees.\n",
    "X_train, X_test, y_train, y_test = train_test_split(train1, Y, test_size=0.33, random_state=7)\n",
    "model = XGBClassifier()\n",
    "model.fit(X_train, y_train)\n",
    "\n",
    "#Make predictions for test data\n",
    "y_pred = model.predict(X_test)\n",
    "accuracy = model.score(X_test, y_test)\n",
    "\n",
    "print(\"Accuracy: %.2f%%\" % (accuracy * 100.0))\n",
    "print(classification_report(y_test, decision_tree.predict(X_test)))"
   ]
  },
  {
   "cell_type": "markdown",
   "metadata": {},
   "source": [
    "-------------------------------------------------------------------------------------------------------------------"
   ]
  },
  {
   "cell_type": "markdown",
   "metadata": {},
   "source": [
    "Predicting song hotness using regression techniques."
   ]
  },
  {
   "cell_type": "code",
   "execution_count": 16,
   "metadata": {},
   "outputs": [
    {
     "name": "stdout",
     "output_type": "stream",
     "text": [
      "<class 'pandas.core.frame.DataFrame'>\n",
      "RangeIndex: 5647 entries, 0 to 5646\n",
      "Data columns (total 42 columns):\n",
      "Unnamed: 0                    5647 non-null int64\n",
      "artist_familiarity            5646 non-null float64\n",
      "artist_hotttnesss             5647 non-null float64\n",
      "artist_id                     5647 non-null int64\n",
      "artist_latitude               2210 non-null float64\n",
      "artist_location               5647 non-null object\n",
      "artist_longitude              2210 non-null float64\n",
      "artist_name                   5647 non-null object\n",
      "artist_terms                  5647 non-null object\n",
      "artist_terms_freq             5647 non-null object\n",
      "artist_terms_weight           5647 non-null object\n",
      "bars_confidence               5647 non-null object\n",
      "bars_start                    5647 non-null object\n",
      "beats_confidence              5647 non-null object\n",
      "beats_start                   5647 non-null object\n",
      "duration                      5647 non-null float64\n",
      "end_of_fade_in                5647 non-null float64\n",
      "key                           5647 non-null float64\n",
      "key_confidence                5647 non-null float64\n",
      "loudness                      5647 non-null float64\n",
      "mode                          5647 non-null float64\n",
      "mode_confidence               5647 non-null float64\n",
      "release                       5647 non-null int64\n",
      "sections_confidence           5647 non-null object\n",
      "sections_start                5647 non-null object\n",
      "segments_confidence           5647 non-null object\n",
      "segments_loudness_max         5647 non-null object\n",
      "segments_loudness_max_time    5647 non-null object\n",
      "segments_loudness_start       5647 non-null object\n",
      "segments_pitches              5647 non-null object\n",
      "segments_start                5647 non-null object\n",
      "segments_timbre               5647 non-null object\n",
      "song_hotttnesss               5647 non-null float64\n",
      "start_of_fade_out             5647 non-null float64\n",
      "tatums_confidence             5647 non-null object\n",
      "tatums_start                  5647 non-null object\n",
      "tempo                         5647 non-null float64\n",
      "time_signature                5647 non-null float64\n",
      "time_signature_confidence     5647 non-null float64\n",
      "title                         5647 non-null object\n",
      "track_id                      5647 non-null object\n",
      "year                          5647 non-null float64\n",
      "dtypes: float64(17), int64(3), object(22)\n",
      "memory usage: 1.8+ MB\n"
     ]
    }
   ],
   "source": [
    "#Dataset.\n",
    "data = pd.read_csv(\"../Data/Cleaned_MSD10k.csv\")\n",
    "\n",
    "#Droping NaN rows in song_hotness.\n",
    "index = data['song_hotttnesss'].index[data['song_hotttnesss'].apply(np.isnan)]\n",
    "data = data.drop(index, axis = 0).reset_index(drop=True)\n",
    "\n",
    "#Imputing values.\n",
    "train[\"artist_familiarity\"] = train[\"artist_familiarity\"].fillna(train[\"artist_familiarity\"].median())\n",
    "\n",
    "#Encode artist id into quantitative\n",
    "le = preprocessing.LabelEncoder()\n",
    "data['artist_id'] = le.fit_transform(data['artist_id'].astype('str'))\n",
    "data['release'] = le.fit_transform(data['release'].astype('str'))\n",
    "\n",
    "data.info()"
   ]
  },
  {
   "cell_type": "code",
   "execution_count": 17,
   "metadata": {},
   "outputs": [
    {
     "name": "stdout",
     "output_type": "stream",
     "text": [
      "<class 'pandas.core.frame.DataFrame'>\n",
      "RangeIndex: 5647 entries, 0 to 5646\n",
      "Data columns (total 15 columns):\n",
      "artist_familiarity           5646 non-null float64\n",
      "artist_hotttnesss            5647 non-null float64\n",
      "duration                     5647 non-null float64\n",
      "end_of_fade_in               5647 non-null float64\n",
      "key                          5647 non-null float64\n",
      "key_confidence               5647 non-null float64\n",
      "loudness                     5647 non-null float64\n",
      "mode                         5647 non-null float64\n",
      "mode_confidence              5647 non-null float64\n",
      "song_hotttnesss              5647 non-null float64\n",
      "start_of_fade_out            5647 non-null float64\n",
      "tempo                        5647 non-null float64\n",
      "time_signature               5647 non-null float64\n",
      "time_signature_confidence    5647 non-null float64\n",
      "year                         5647 non-null float64\n",
      "dtypes: float64(15)\n",
      "memory usage: 661.8 KB\n"
     ]
    }
   ],
   "source": [
    "#Dropping attributes that cannot be processed (eg. 2D arrays etc).\n",
    "drop_list = ['Unnamed: 0','artist_location', 'artist_latitude', 'artist_longitude','artist_name', 'artist_id', 'artist_terms', 'artist_terms_freq', 'beats_start', 'artist_terms_weight', 'bars_confidence',\n",
    "             'bars_start', 'beats_confidence', 'release', 'sections_confidence', 'sections_start', 'segments_confidence', 'segments_loudness_max', \n",
    "             'segments_loudness_max_time', 'segments_loudness_start', 'segments_pitches','segments_start', 'segments_timbre', 'tatums_confidence', \n",
    "             'tatums_start','title', 'track_id']\n",
    "train = data.drop(drop_list, axis=1)\n",
    "train.info()"
   ]
  },
  {
   "cell_type": "code",
   "execution_count": 18,
   "metadata": {},
   "outputs": [],
   "source": [
    "#Actual Values.\n",
    "Y = copy.deepcopy(train.song_hotttnesss)\n",
    "Y.shape\n",
    "\n",
    "#New dataframe without target.\n",
    "train = train.drop(\"song_hotttnesss\", axis=1)"
   ]
  },
  {
   "cell_type": "code",
   "execution_count": 19,
   "metadata": {},
   "outputs": [
    {
     "name": "stdout",
     "output_type": "stream",
     "text": [
      "Accuracy: 47.75%\n",
      "Wall time: 741 ms\n"
     ]
    }
   ],
   "source": [
    "%%time\n",
    "#Regression model.\n",
    "X_train, X_test, y_train, y_test = train_test_split(train, Y, test_size=0.2, random_state = 5)\n",
    "model = XGBRegressor()\n",
    "model.fit(X_train, y_train)\n",
    "\n",
    "#Make predictions for test data\n",
    "y_pred = model.predict(X_test)\n",
    "accuracy = model.score(X_test, y_test)\n",
    "\n",
    "df = pd.DataFrame({'Actual': y_test, 'Predicted': y_pred})  \n",
    "\n",
    "print(\"Accuracy: %.2f%%\" % (accuracy * 100.0))"
   ]
  },
  {
   "cell_type": "code",
   "execution_count": 20,
   "metadata": {},
   "outputs": [
    {
     "data": {
      "text/html": [
       "<div>\n",
       "<style scoped>\n",
       "    .dataframe tbody tr th:only-of-type {\n",
       "        vertical-align: middle;\n",
       "    }\n",
       "\n",
       "    .dataframe tbody tr th {\n",
       "        vertical-align: top;\n",
       "    }\n",
       "\n",
       "    .dataframe thead th {\n",
       "        text-align: right;\n",
       "    }\n",
       "</style>\n",
       "<table border=\"1\" class=\"dataframe\">\n",
       "  <thead>\n",
       "    <tr style=\"text-align: right;\">\n",
       "      <th></th>\n",
       "      <th>Actual</th>\n",
       "      <th>Predicted</th>\n",
       "    </tr>\n",
       "  </thead>\n",
       "  <tbody>\n",
       "    <tr>\n",
       "      <th>855</th>\n",
       "      <td>0.754321</td>\n",
       "      <td>0.568642</td>\n",
       "    </tr>\n",
       "    <tr>\n",
       "      <th>1157</th>\n",
       "      <td>0.000000</td>\n",
       "      <td>0.351981</td>\n",
       "    </tr>\n",
       "    <tr>\n",
       "      <th>1472</th>\n",
       "      <td>0.000000</td>\n",
       "      <td>0.244505</td>\n",
       "    </tr>\n",
       "    <tr>\n",
       "      <th>5098</th>\n",
       "      <td>0.000000</td>\n",
       "      <td>0.256196</td>\n",
       "    </tr>\n",
       "    <tr>\n",
       "      <th>3797</th>\n",
       "      <td>0.650042</td>\n",
       "      <td>0.619274</td>\n",
       "    </tr>\n",
       "    <tr>\n",
       "      <th>3791</th>\n",
       "      <td>0.270776</td>\n",
       "      <td>0.191372</td>\n",
       "    </tr>\n",
       "    <tr>\n",
       "      <th>1307</th>\n",
       "      <td>0.000000</td>\n",
       "      <td>0.231711</td>\n",
       "    </tr>\n",
       "    <tr>\n",
       "      <th>1092</th>\n",
       "      <td>0.000000</td>\n",
       "      <td>0.287741</td>\n",
       "    </tr>\n",
       "    <tr>\n",
       "      <th>3532</th>\n",
       "      <td>0.482138</td>\n",
       "      <td>0.388209</td>\n",
       "    </tr>\n",
       "    <tr>\n",
       "      <th>2059</th>\n",
       "      <td>0.000000</td>\n",
       "      <td>0.297604</td>\n",
       "    </tr>\n",
       "  </tbody>\n",
       "</table>\n",
       "</div>"
      ],
      "text/plain": [
       "        Actual  Predicted\n",
       "855   0.754321   0.568642\n",
       "1157  0.000000   0.351981\n",
       "1472  0.000000   0.244505\n",
       "5098  0.000000   0.256196\n",
       "3797  0.650042   0.619274\n",
       "3791  0.270776   0.191372\n",
       "1307  0.000000   0.231711\n",
       "1092  0.000000   0.287741\n",
       "3532  0.482138   0.388209\n",
       "2059  0.000000   0.297604"
      ]
     },
     "execution_count": 20,
     "metadata": {},
     "output_type": "execute_result"
    }
   ],
   "source": [
    "#Looking at results\n",
    "df.head(10)"
   ]
  },
  {
   "cell_type": "code",
   "execution_count": 21,
   "metadata": {},
   "outputs": [
    {
     "name": "stdout",
     "output_type": "stream",
     "text": [
      "Mean Absolute Error: 0.15124598213844945\n",
      "Mean Squared Error: 0.03313731195256913\n",
      "Root Mean Squared Error: 0.18203656762466472\n"
     ]
    }
   ],
   "source": [
    "#Performance of the model.\n",
    "print('Mean Absolute Error:', metrics.mean_absolute_error(y_test, y_pred))  \n",
    "print('Mean Squared Error:', metrics.mean_squared_error(y_test, y_pred))  \n",
    "print('Root Mean Squared Error:', np.sqrt(metrics.mean_squared_error(y_test, y_pred))) "
   ]
  },
  {
   "cell_type": "code",
   "execution_count": 26,
   "metadata": {},
   "outputs": [
    {
     "name": "stdout",
     "output_type": "stream",
     "text": [
      "Mean Absolute Error: 0.325601883035631\n",
      "Mean Squared Error: 0.1613577634361271\n",
      "Root Mean Squared Error: 0.4016936188640879\n"
     ]
    }
   ],
   "source": [
    "#Random number generator.\n",
    "import random\n",
    "array = [random.random() for i in range(len(y_test))]\n",
    "\n",
    "print('Mean Absolute Error:', metrics.mean_absolute_error(y_test, array))  \n",
    "print('Mean Squared Error:', metrics.mean_squared_error(y_test, array))  \n",
    "print('Root Mean Squared Error:', np.sqrt(metrics.mean_squared_error(y_test, array))) "
   ]
  },
  {
   "cell_type": "markdown",
   "metadata": {},
   "source": [
    "Comparing the results we see that our model preforms better than an random predictor."
   ]
  },
  {
   "cell_type": "code",
   "execution_count": null,
   "metadata": {},
   "outputs": [],
   "source": []
  }
 ],
 "metadata": {
  "kernelspec": {
   "display_name": "Python 3",
   "language": "python",
   "name": "python3"
  },
  "language_info": {
   "codemirror_mode": {
    "name": "ipython",
    "version": 3
   },
   "file_extension": ".py",
   "mimetype": "text/x-python",
   "name": "python",
   "nbconvert_exporter": "python",
   "pygments_lexer": "ipython3",
   "version": "3.7.0"
  }
 },
 "nbformat": 4,
 "nbformat_minor": 2
}
